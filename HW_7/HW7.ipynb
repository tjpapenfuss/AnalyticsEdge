{
  "cells": [
    {
      "cell_type": "markdown",
      "metadata": {
        "id": "view-in-github",
        "colab_type": "text"
      },
      "source": [
        "<a href=\"https://colab.research.google.com/github/tjpapenfuss/AnalyticsEdge/blob/main/HW_7/HW7.ipynb\" target=\"_parent\"><img src=\"https://colab.research.google.com/assets/colab-badge.svg\" alt=\"Open In Colab\"/></a>"
      ]
    },
    {
      "cell_type": "markdown",
      "source": [
        "In this homework, we are using a Google Colaboratory (Colab) notebook. Google Colab allows us to train models on the cloud, regardless of the computational power of our laptop. This is particularly helpful for training neural networks, as training big networks is generally computationally demanding. \n",
        "\n",
        "You are able to run cells in this notebook, but you cannot make/save changes here. To do so, click on File on the top menu and make a copy of this notebook to your Google Drive. Then, you can make and save changes in that copy.\n",
        "\n",
        "When you are done with this homework, simply make a PDF of this notebook (by clicking on File -> Print -> PDF) and submit the resulting PDF to Gradescope. Make sure your responses are properly recorded in your PDF."
      ],
      "metadata": {
        "id": "0NTYmHltKz-U"
      }
    },
    {
      "cell_type": "markdown",
      "metadata": {
        "id": "mLU7zgFa-nMS"
      },
      "source": [
        "# Loading packages and data"
      ]
    },
    {
      "cell_type": "markdown",
      "metadata": {
        "id": "z1t7HAvY8gZA"
      },
      "source": [
        "First, we need to install Keras, which is the library we use for training neural networks. \n",
        "\n",
        "We note that Google Colab notebooks are run on Virtual Machines (VM). This means that no permanent hardware/memory is assigned to your notebook and your resources are recycled when you close this notebook. Hence, we need to install Keras everytime we run this notebook."
      ]
    },
    {
      "cell_type": "code",
      "execution_count": 1,
      "metadata": {
        "colab": {
          "base_uri": "https://localhost:8080/"
        },
        "id": "IG_cxEMyjVcA",
        "outputId": "8db4d0fb-4124-456d-a84a-4c8f082f6007"
      },
      "outputs": [
        {
          "output_type": "stream",
          "name": "stderr",
          "text": [
            "Downloading GitHub repo rstudio/keras@HEAD\n",
            "\n"
          ]
        },
        {
          "output_type": "stream",
          "name": "stdout",
          "text": [
            "vctrs       (0.5.0 -> 0.5.1) [CRAN]\n",
            "png         (NA    -> 0.1-7) [CRAN]\n",
            "here        (NA    -> 1.0.1) [CRAN]\n",
            "RcppTOML    (NA    -> 0.1.7) [CRAN]\n",
            "Rcpp        (NA    -> 1.0.9) [CRAN]\n",
            "reticulate  (NA    -> 1.26 ) [CRAN]\n",
            "config      (NA    -> 0.3.1) [CRAN]\n",
            "tfautograph (NA    -> 0.3.2) [CRAN]\n",
            "tfruns      (NA    -> 1.5.1) [CRAN]\n",
            "zeallot     (NA    -> 0.1.0) [CRAN]\n",
            "tensorflow  (NA    -> 2.9.0) [CRAN]\n"
          ]
        },
        {
          "output_type": "stream",
          "name": "stderr",
          "text": [
            "Installing 11 packages: vctrs, png, here, RcppTOML, Rcpp, reticulate, config, tfautograph, tfruns, zeallot, tensorflow\n",
            "\n",
            "Installing packages into ‘/usr/local/lib/R/site-library’\n",
            "(as ‘lib’ is unspecified)\n",
            "\n"
          ]
        },
        {
          "output_type": "stream",
          "name": "stdout",
          "text": [
            "* checking for file ‘/tmp/Rtmp4yoFlD/remotes5036b8fa35/rstudio-keras-b778be2/DESCRIPTION’ ... OK\n",
            "* preparing ‘keras’:\n",
            "* checking DESCRIPTION meta-information ... OK\n",
            "* checking for LF line-endings in source and make files and shell scripts\n",
            "* checking for empty or unneeded directories\n",
            "Removed empty directory ‘keras/man-roxygen’\n",
            "* building ‘keras_2.9.0.9000.tar.gz’\n",
            "\n"
          ]
        },
        {
          "output_type": "stream",
          "name": "stderr",
          "text": [
            "Installing package into ‘/usr/local/lib/R/site-library’\n",
            "(as ‘lib’ is unspecified)\n",
            "\n"
          ]
        }
      ],
      "source": [
        "devtools::install_github(\"rstudio/keras\")"
      ]
    },
    {
      "cell_type": "markdown",
      "metadata": {
        "id": "DktA8quA9l-G"
      },
      "source": [
        "As always, we need to call the libraries we will use."
      ]
    },
    {
      "cell_type": "code",
      "execution_count": 2,
      "metadata": {
        "id": "vdhqxi0cj4jx"
      },
      "outputs": [],
      "source": [
        "library(keras)\n",
        "set.seed(123)"
      ]
    },
    {
      "cell_type": "markdown",
      "metadata": {
        "id": "dHEW_kIx8j1l"
      },
      "source": [
        "The next step is to load data. We are using MNIST dataset, which is a hand-written digit classification dataset. You can read more about this dataset here:\n",
        "https://en.wikipedia.org/wiki/MNIST_database .\n",
        "\n",
        "\n",
        "Keras has a built-in function to load MNIST. The following cell downloads the data and divides it into train and test samples."
      ]
    },
    {
      "cell_type": "code",
      "execution_count": 6,
      "metadata": {
        "id": "SNXD8CVEkIn0"
      },
      "outputs": [],
      "source": [
        "mnist <- dataset_mnist()\n",
        "x_train_tensor <- mnist$train$x\n",
        "y_train <- mnist$train$y\n",
        "x_test_tensor <- mnist$test$x\n",
        "y_test <- mnist$test$y"
      ]
    },
    {
      "cell_type": "markdown",
      "metadata": {
        "id": "WcFsTWuG4mUi"
      },
      "source": [
        "# Exploring the data"
      ]
    },
    {
      "cell_type": "code",
      "source": [
        "summary(x_train_tensor)"
      ],
      "metadata": {
        "id": "Csi-2KTo73Kj",
        "outputId": "2f61a578-cc7f-49d9-ab93-445dfdfe15e7",
        "colab": {
          "base_uri": "https://localhost:8080/",
          "height": 53
        }
      },
      "execution_count": 9,
      "outputs": [
        {
          "output_type": "display_data",
          "data": {
            "text/plain": [
              "   Min. 1st Qu.  Median    Mean 3rd Qu.    Max. \n",
              "   0.00    0.00    0.00   33.32    0.00  255.00 "
            ]
          },
          "metadata": {}
        }
      ]
    },
    {
      "cell_type": "markdown",
      "metadata": {
        "id": "p3af6tKg4xWh"
      },
      "source": [
        "a) What is the training data size? How many samples are in the training data? (10 points)"
      ]
    },
    {
      "cell_type": "code",
      "execution_count": 10,
      "metadata": {
        "id": "SWqW_yZx36V9",
        "outputId": "5243d864-e345-434a-9a9d-aa90b6e81770",
        "colab": {
          "base_uri": "https://localhost:8080/",
          "height": 34
        }
      },
      "outputs": [
        {
          "output_type": "display_data",
          "data": {
            "text/html": [
              "60000"
            ],
            "text/markdown": "60000",
            "text/latex": "60000",
            "text/plain": [
              "[1] 60000"
            ]
          },
          "metadata": {}
        }
      ],
      "source": [
        "nrow(x_train_tensor)"
      ]
    },
    {
      "cell_type": "markdown",
      "metadata": {
        "id": "pynAoZSv5Cr6"
      },
      "source": [
        "b) Show a few samples from the training data. Discuss at least two issues that might make the prediction job harder. (10 points)\n",
        "\n",
        "HINT: You might want to use the function `image`."
      ]
    },
    {
      "cell_type": "code",
      "execution_count": null,
      "metadata": {
        "id": "R5y-az2o5QiH"
      },
      "outputs": [],
      "source": []
    },
    {
      "cell_type": "markdown",
      "metadata": {
        "id": "bjri8Uu_-1j1"
      },
      "source": [
        "# Processing the data"
      ]
    },
    {
      "cell_type": "markdown",
      "metadata": {
        "id": "64maDmYM_PbA"
      },
      "source": [
        "Next, we reshape the train and test data to matrices of the form num_samples*784, so we don't have to work with 3-dimensional data. We also scale the images so each pixel is between 0 and 1, instead of the original 0 and 255."
      ]
    },
    {
      "cell_type": "code",
      "execution_count": null,
      "metadata": {
        "id": "Y4LrtCjLkNvr"
      },
      "outputs": [],
      "source": [
        "# reshape\n",
        "x_train = x_train_tensor\n",
        "x_test = x_test_tensor\n",
        "\n",
        "dim(x_train) <- c(nrow(x_train_tensor), 784)\n",
        "dim(x_test) <- c(nrow(x_test_tensor), 784)\n",
        "# rescale\n",
        "x_train <- x_train / 255\n",
        "x_test <- x_test / 255\n",
        "\n"
      ]
    },
    {
      "cell_type": "markdown",
      "metadata": {
        "id": "pSiKk3hT5uzE"
      },
      "source": [
        "We also ensure the outputs are treated as a classification problem, not regression."
      ]
    },
    {
      "cell_type": "code",
      "execution_count": null,
      "metadata": {
        "colab": {
          "base_uri": "https://localhost:8080/",
          "height": 34
        },
        "id": "DJe42JRWkQgP",
        "outputId": "a610fe33-df7b-42e8-ee09-d8b86f1160f6"
      },
      "outputs": [
        {
          "output_type": "display_data",
          "data": {
            "text/html": [
              "600000"
            ],
            "text/markdown": "600000",
            "text/latex": "600000",
            "text/plain": [
              "[1] 600000"
            ]
          },
          "metadata": {}
        }
      ],
      "source": [
        "y_train <- to_categorical(y_train, 10)\n",
        "length(y_train)\n",
        "y_test <- to_categorical(y_test, 10)"
      ]
    },
    {
      "cell_type": "markdown",
      "metadata": {
        "id": "7MJQwuso_SnL"
      },
      "source": [
        "# An example of defining and training a model"
      ]
    },
    {
      "cell_type": "markdown",
      "source": [
        "To define a neural network in Keras, we use a syntax as follows:"
      ],
      "metadata": {
        "id": "Iqkd2THvMWjq"
      }
    },
    {
      "cell_type": "code",
      "execution_count": null,
      "metadata": {
        "colab": {
          "base_uri": "https://localhost:8080/"
        },
        "id": "umx27e8TkTOd",
        "outputId": "1eea3d46-8152-4829-9974-63fccc8a004d"
      },
      "outputs": [
        {
          "output_type": "stream",
          "name": "stdout",
          "text": [
            "Model: \"sequential\"\n",
            "________________________________________________________________________________\n",
            " Layer (type)                       Output Shape                    Param #     \n",
            "================================================================================\n",
            " dense_5 (Dense)                    (None, 128)                     100480      \n",
            " dense_4 (Dense)                    (None, 64)                      8256        \n",
            " dense_3 (Dense)                    (None, 32)                      2080        \n",
            " dense_2 (Dense)                    (None, 16)                      528         \n",
            " dense_1 (Dense)                    (None, 8)                       136         \n",
            " dense (Dense)                      (None, 10)                      90          \n",
            "================================================================================\n",
            "Total params: 111,570\n",
            "Trainable params: 111,570\n",
            "Non-trainable params: 0\n",
            "________________________________________________________________________________\n"
          ]
        }
      ],
      "source": [
        "model <- keras_model_sequential() \n",
        "model %>% \n",
        "  layer_dense(units = 128, activation = \"relu\", input_shape = c(784)) %>% \n",
        "  layer_dense(units = 64, activation = \"relu\", input_shape = c(784)) %>% \n",
        "  layer_dense(units = 32, activation = \"relu\", input_shape = c(784)) %>% \n",
        "  layer_dense(units = 16, activation = \"relu\", input_shape = c(784)) %>% \n",
        "  layer_dense(units = 8, activation = \"relu\", input_shape = c(784)) %>% \n",
        "  layer_dense(units = 10, activation = \"softmax\")\n",
        "\n",
        "\n",
        "summary(model)"
      ]
    },
    {
      "cell_type": "markdown",
      "source": [
        "In the code above, we define the network layer by layer (from input to output). For each layer, we need to specify how many units there are in that layer, what activation function is used by them, and what is the input size of the layer. For example, the first layer in the above syntax is a dense (i.e. fully connected) layer of 128 units (i.e. neurons), each using the activation function ReLU. Note that we use softmax activation for the last layer, as we are dealing with a classification task. \n",
        "The function ```summay``` prints a summary of the model, as shown above.\n",
        "\n"
      ],
      "metadata": {
        "id": "Y2mlCphEMcjv"
      }
    },
    {
      "cell_type": "markdown",
      "metadata": {
        "id": "Y8sEnSed77ef"
      },
      "source": [
        "Next, we have to compile the model, i.e. tell the training function what loss function to use for training (cross entropy is used here, which is common for classification problems), what optimization algorithm to use, and what metric to use for evaluating the classification problem (accuracy here). "
      ]
    },
    {
      "cell_type": "code",
      "execution_count": null,
      "metadata": {
        "id": "l1R9llWKkcmt"
      },
      "outputs": [],
      "source": [
        "model %>% compile(\n",
        "  loss = \"categorical_crossentropy\",\n",
        "  optimizer = optimizer_rmsprop(),\n",
        "  metrics = c(\"accuracy\")\n",
        ")"
      ]
    },
    {
      "cell_type": "markdown",
      "metadata": {
        "id": "hXPo0JtJ8j1z"
      },
      "source": [
        "Next step is to train the model. The function fit trains the neural network for us, based on the model we compiled before. The training will continue for 30 epochs, i.e. 30 passes will be done on the whole data. The batch size is set to 64 here. This means at each update of the model, only 64 samples are used. This also implies that there are #num_samples/64 many updates per epoch, to complete a pass over data. Finally, 20% of the training data will be used for validation purposes, to select the final best model.\n",
        "\n",
        "We note that training neural networks can take up to 10 minutes, so you might have to wait to see the results."
      ]
    },
    {
      "cell_type": "code",
      "execution_count": null,
      "metadata": {
        "id": "zxSTlmlokgMa"
      },
      "outputs": [],
      "source": [
        "history <- model %>% fit(\n",
        "  x_train, y_train, \n",
        "  epochs = 30, batch_size = 64, \n",
        "  validation_split = 0.2\n",
        ")"
      ]
    },
    {
      "cell_type": "markdown",
      "source": [
        "The code below plots the training history of the model and report the accuracy on the test data."
      ],
      "metadata": {
        "id": "-CncG_8bNLSb"
      }
    },
    {
      "cell_type": "code",
      "execution_count": null,
      "metadata": {
        "id": "hvFTWB3blD1o",
        "colab": {
          "base_uri": "https://localhost:8080/",
          "height": 562
        },
        "outputId": "7061d271-4193-4481-feb1-bcc4fede0174"
      },
      "outputs": [
        {
          "output_type": "display_data",
          "data": {
            "text/plain": [
              "\n",
              "Final epoch (plot to see history):\n",
              "        loss: 0.008979\n",
              "    accuracy: 0.9975\n",
              "    val_loss: 0.3062\n",
              "val_accuracy: 0.973 "
            ]
          },
          "metadata": {}
        },
        {
          "output_type": "display_data",
          "data": {
            "text/html": [
              "<style>\n",
              ".dl-inline {width: auto; margin:0; padding: 0}\n",
              ".dl-inline>dt, .dl-inline>dd {float: none; width: auto; display: inline-block}\n",
              ".dl-inline>dt::after {content: \":\\0020\"; padding-right: .5ex}\n",
              ".dl-inline>dt:not(:first-of-type) {padding-left: .5ex}\n",
              "</style><dl class=dl-inline><dt>loss</dt><dd>0.267073214054108</dd><dt>accuracy</dt><dd>0.97460001707077</dd></dl>\n"
            ],
            "text/markdown": "loss\n:   0.267073214054108accuracy\n:   0.97460001707077\n\n",
            "text/latex": "\\begin{description*}\n\\item[loss] 0.267073214054108\n\\item[accuracy] 0.97460001707077\n\\end{description*}\n",
            "text/plain": [
              "     loss  accuracy \n",
              "0.2670732 0.9746000 "
            ]
          },
          "metadata": {}
        },
        {
          "output_type": "display_data",
          "data": {
            "text/plain": [
              "plot without title"
            ],
            "image/png": "[encoded data removed]"
          },
          "metadata": {
            "image/png": {
              "width": 420,
              "height": 420
            }
          }
        }
      ],
      "source": [
        "plot(history)\n",
        "history\n",
        "model %>% evaluate(x_test, y_test)"
      ]
    },
    {
      "cell_type": "markdown",
      "metadata": {
        "id": "KjpTHKLF68By"
      },
      "source": [
        "# Questions"
      ]
    },
    {
      "cell_type": "markdown",
      "metadata": {
        "id": "IyMcLd227AJE"
      },
      "source": [
        "c) Explain the numbers and figures you see above. Do you think the model in underfitting or overfitting? (10 points)\n"
      ]
    },
    {
      "cell_type": "markdown",
      "metadata": {
        "id": "2ncwfktRV2y8"
      },
      "source": [
        "Response:"
      ]
    },
    {
      "cell_type": "markdown",
      "metadata": {
        "id": "GnPUCwCmV3YM"
      },
      "source": [
        "d) Train a neural network with one hidden layer, with 32 units. Report the statistics of your trained model. (15 points)"
      ]
    },
    {
      "cell_type": "code",
      "execution_count": null,
      "metadata": {
        "id": "ci4SEPUw8XEF"
      },
      "outputs": [],
      "source": []
    },
    {
      "cell_type": "markdown",
      "metadata": {
        "id": "5VpOBJJL9y_8"
      },
      "source": [
        "e) Train a neural network with two hidden layers, first with 1024 units and the second one with 512 units. Report the statistics of your trained model (This may take 10 minutes or more). (15 points)"
      ]
    },
    {
      "cell_type": "code",
      "execution_count": null,
      "metadata": {
        "id": "0XSNkVGf7bT4"
      },
      "outputs": [],
      "source": []
    },
    {
      "cell_type": "markdown",
      "metadata": {
        "id": "Zgx7KaS9Adq-"
      },
      "source": [
        "f) Train a neural network with two hidden layers, first with 256 units and the second one with 128 units. Report the statistics of your trained model. (15 points)"
      ]
    },
    {
      "cell_type": "code",
      "execution_count": null,
      "metadata": {
        "id": "nkMU6PhHAEFx"
      },
      "outputs": [],
      "source": []
    },
    {
      "cell_type": "markdown",
      "metadata": {
        "id": "jxoYk1IHIJjh"
      },
      "source": [
        "g) Compares the models you trained above, in terms of in-sample and out-of-sample performance, and runtime. What insights did you gain from these experiments? (10 points)"
      ]
    },
    {
      "cell_type": "markdown",
      "metadata": {
        "id": "U--ErDxXT50N"
      },
      "source": [
        "Response:"
      ]
    },
    {
      "cell_type": "markdown",
      "metadata": {
        "id": "oFtivUL3INHq"
      },
      "source": [
        "h) Show an example of the **test** data where your model from part (f) predicted incorrectly. Why do you think caused the error? (15 points)"
      ]
    },
    {
      "cell_type": "code",
      "execution_count": null,
      "metadata": {
        "id": "TotKrjekFTMO"
      },
      "outputs": [],
      "source": []
    }
  ],
  "metadata": {
    "accelerator": "GPU",
    "colab": {
      "provenance": [],
      "include_colab_link": true
    },
    "gpuClass": "standard",
    "kernelspec": {
      "display_name": "R",
      "name": "ir"
    },
    "language_info": {
      "name": "R"
    }
  },
  "nbformat": 4,
  "nbformat_minor": 0
}